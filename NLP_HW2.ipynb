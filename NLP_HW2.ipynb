{
  "nbformat": 4,
  "nbformat_minor": 0,
  "metadata": {
    "colab": {
      "name": "NLP-HW2.ipynb",
      "provenance": [],
      "collapsed_sections": [],
      "authorship_tag": "ABX9TyPOMCPAzU59NLNl0sYMCKGl",
      "include_colab_link": true
    },
    "kernelspec": {
      "name": "python3",
      "display_name": "Python 3"
    },
    "language_info": {
      "name": "python"
    }
  },
  "cells": [
    {
      "cell_type": "markdown",
      "metadata": {
        "id": "view-in-github",
        "colab_type": "text"
      },
      "source": [
        "<a href=\"https://colab.research.google.com/github/mahdimalverdi/NLP-HW2/blob/main/NLP_HW2.ipynb\" target=\"_parent\"><img src=\"https://colab.research.google.com/assets/colab-badge.svg\" alt=\"Open In Colab\"/></a>"
      ]
    },
    {
      "cell_type": "code",
      "execution_count": 5,
      "metadata": {
        "id": "FnjWD1FDt81i"
      },
      "outputs": [],
      "source": [
        "trainfile = open(\"brown.train.txt\", \"r\")\n",
        "sentences = trainfile.read().split('\\n')"
      ]
    },
    {
      "cell_type": "code",
      "source": [
        "import string\n",
        "\n",
        "def remove_punctuation(sentence):\n",
        "    return \"\".join([i for i in sentence if i not in string.punctuation])"
      ],
      "metadata": {
        "id": "eUNQjqa5z5UC"
      },
      "execution_count": 12,
      "outputs": []
    },
    {
      "cell_type": "code",
      "source": [
        "import re\n",
        "\n",
        "def tokenization(sentence):\n",
        "    return [ item for item in re.split(r\"\\s+\",sentence) if item != '']"
      ],
      "metadata": {
        "id": "yQyejoaJ0VRv"
      },
      "execution_count": 25,
      "outputs": []
    },
    {
      "cell_type": "code",
      "source": [
        "def preprocess(sentence):\n",
        "  return tokenization(remove_punctuation(sentence.lower()))"
      ],
      "metadata": {
        "id": "kZASoSuYyyYP"
      },
      "execution_count": 18,
      "outputs": []
    },
    {
      "cell_type": "code",
      "source": [
        "def get_n_gram_sentence(array, n, i):\n",
        "  return (' '.join(array[max(i,0):i+n]))\n",
        "\n",
        "def get_n_gram(array, n):\n",
        "  return [(get_n_gram(array, n ,i), '' if i+n+2>len(array) else array[i+n]) for i in range (-1, len(array) - n + 2 )]\n"
      ],
      "metadata": {
        "id": "uPXQVxAT1Uad"
      },
      "execution_count": 158,
      "outputs": []
    },
    {
      "cell_type": "code",
      "source": [
        "dic = {}\n",
        "\n",
        "def set_dic(item):\n",
        "  if item[0] not in dic:\n",
        "    dic[item[0]]={'next_words':{}}\n",
        "  if item[1] not in dic[item[0]]['next_words']:\n",
        "    dic[item[0]]['next_words'][item[1]] = {'count':0}\n",
        "  dic[item[0]]['next_words'][item[1]]['count']+=1"
      ],
      "metadata": {
        "id": "kHI6VLjH-Esf"
      },
      "execution_count": 115,
      "outputs": []
    },
    {
      "cell_type": "code",
      "source": [
        "def set_dic_n_gram(n):\n",
        "  for sentence in sentences:\n",
        "    for item in get_n_gram(preprocess(sentence), n):\n",
        "      set_dic(item)\n",
        "  for item in dic:\n",
        "    count = 0\n",
        "    max_count=0\n",
        "    max_candidate=0\n",
        "    for next_word in dic[item]['next_words']:\n",
        "      count += dic[item]['next_words'][next_word]['count']\n",
        "      if max_count < dic[item]['next_words'][next_word]['count']:\n",
        "        max_candidate = next_word\n",
        "        max_count = dic[item]['next_words'][next_word]['count']\n",
        "    dic[item]['count'] = count \n",
        "    dic[item]['next_word'] = max_candidate \n",
        "\n",
        "  for item in dic:\n",
        "    for next_word in dic[item]['next_words']:\n",
        "      dic[item]['next_words'][next_word]['probability']=dic[item]['next_words'][next_word]['count']/dic[item]['count']"
      ],
      "metadata": {
        "id": "NQtpOws__wVo"
      },
      "execution_count": 146,
      "outputs": []
    },
    {
      "cell_type": "code",
      "source": [
        ""
      ],
      "metadata": {
        "id": "N4KY3vdRMP1P"
      },
      "execution_count": null,
      "outputs": []
    },
    {
      "cell_type": "code",
      "source": [
        "dic = {}\n",
        "\n",
        "set_dic_n_gram(2)"
      ],
      "metadata": {
        "id": "lGPmTR09zMZ5"
      },
      "execution_count": 149,
      "outputs": []
    },
    {
      "cell_type": "code",
      "source": [
        "dic['county leaders']\n",
        "tokenized = preprocess('Some Democratic district and county leaders are reported trying to')\n",
        "key = get_n_gram_sentence(tokenized, 2, len(tokenized)-2)\n",
        "dic[key]"
      ],
      "metadata": {
        "colab": {
          "base_uri": "https://localhost:8080/"
        },
        "outputId": "b4eea1fc-5d5b-4f36-d733-6137dc079332",
        "id": "NKsH9QpN7DbU"
      },
      "execution_count": 168,
      "outputs": [
        {
          "output_type": "execute_result",
          "data": {
            "text/plain": [
              "{'count': 108,\n",
              " 'next_word': 'get',\n",
              " 'next_words': {'': {'count': 4, 'probability': 0.037037037037037035},\n",
              "  'assert': {'count': 1, 'probability': 0.009259259259259259},\n",
              "  'avoid': {'count': 1, 'probability': 0.009259259259259259},\n",
              "  'be': {'count': 3, 'probability': 0.027777777777777776},\n",
              "  'build': {'count': 1, 'probability': 0.009259259259259259},\n",
              "  'catch': {'count': 1, 'probability': 0.009259259259259259},\n",
              "  'check': {'count': 1, 'probability': 0.009259259259259259},\n",
              "  'close': {'count': 1, 'probability': 0.009259259259259259},\n",
              "  'contain': {'count': 1, 'probability': 0.009259259259259259},\n",
              "  'continue': {'count': 1, 'probability': 0.009259259259259259},\n",
              "  'create': {'count': 1, 'probability': 0.009259259259259259},\n",
              "  'cut': {'count': 1, 'probability': 0.009259259259259259},\n",
              "  'decide': {'count': 1, 'probability': 0.009259259259259259},\n",
              "  'determine': {'count': 1, 'probability': 0.009259259259259259},\n",
              "  'develop': {'count': 1, 'probability': 0.009259259259259259},\n",
              "  'do': {'count': 2, 'probability': 0.018518518518518517},\n",
              "  'drag': {'count': 1, 'probability': 0.009259259259259259},\n",
              "  'draw': {'count': 1, 'probability': 0.009259259259259259},\n",
              "  'emulate': {'count': 1, 'probability': 0.009259259259259259},\n",
              "  'explain': {'count': 2, 'probability': 0.018518518518518517},\n",
              "  'expose': {'count': 1, 'probability': 0.009259259259259259},\n",
              "  'find': {'count': 5, 'probability': 0.046296296296296294},\n",
              "  'flatter': {'count': 1, 'probability': 0.009259259259259259},\n",
              "  'focus': {'count': 1, 'probability': 0.009259259259259259},\n",
              "  'follow': {'count': 1, 'probability': 0.009259259259259259},\n",
              "  'get': {'count': 11, 'probability': 0.10185185185185185},\n",
              "  'help': {'count': 1, 'probability': 0.009259259259259259},\n",
              "  'hit': {'count': 1, 'probability': 0.009259259259259259},\n",
              "  'hold': {'count': 1, 'probability': 0.009259259259259259},\n",
              "  'keep': {'count': 4, 'probability': 0.037037037037037035},\n",
              "  'land': {'count': 1, 'probability': 0.009259259259259259},\n",
              "  'learn': {'count': 1, 'probability': 0.009259259259259259},\n",
              "  'look': {'count': 1, 'probability': 0.009259259259259259},\n",
              "  'maintain': {'count': 1, 'probability': 0.009259259259259259},\n",
              "  'make': {'count': 7, 'probability': 0.06481481481481481},\n",
              "  'maneuver': {'count': 1, 'probability': 0.009259259259259259},\n",
              "  'marry': {'count': 1, 'probability': 0.009259259259259259},\n",
              "  'match': {'count': 1, 'probability': 0.009259259259259259},\n",
              "  'mollify': {'count': 1, 'probability': 0.009259259259259259},\n",
              "  'pick': {'count': 2, 'probability': 0.018518518518518517},\n",
              "  'plan': {'count': 1, 'probability': 0.009259259259259259},\n",
              "  'prepare': {'count': 1, 'probability': 0.009259259259259259},\n",
              "  'promote': {'count': 1, 'probability': 0.009259259259259259},\n",
              "  'prove': {'count': 2, 'probability': 0.018518518518518517},\n",
              "  'pull': {'count': 1, 'probability': 0.009259259259259259},\n",
              "  'push': {'count': 1, 'probability': 0.009259259259259259},\n",
              "  'put': {'count': 1, 'probability': 0.009259259259259259},\n",
              "  'reach': {'count': 1, 'probability': 0.009259259259259259},\n",
              "  'read': {'count': 1, 'probability': 0.009259259259259259},\n",
              "  'redeem': {'count': 1, 'probability': 0.009259259259259259},\n",
              "  'remember': {'count': 1, 'probability': 0.009259259259259259},\n",
              "  'say': {'count': 2, 'probability': 0.018518518518518517},\n",
              "  'sell': {'count': 1, 'probability': 0.009259259259259259},\n",
              "  'simulate': {'count': 1, 'probability': 0.009259259259259259},\n",
              "  'size': {'count': 1, 'probability': 0.009259259259259259},\n",
              "  'smile': {'count': 1, 'probability': 0.009259259259259259},\n",
              "  'sort': {'count': 1, 'probability': 0.009259259259259259},\n",
              "  'study': {'count': 1, 'probability': 0.009259259259259259},\n",
              "  'take': {'count': 1, 'probability': 0.009259259259259259},\n",
              "  'talk': {'count': 4, 'probability': 0.037037037037037035},\n",
              "  'tell': {'count': 1, 'probability': 0.009259259259259259},\n",
              "  'think': {'count': 1, 'probability': 0.009259259259259259},\n",
              "  'throw': {'count': 1, 'probability': 0.009259259259259259},\n",
              "  'touch': {'count': 1, 'probability': 0.009259259259259259},\n",
              "  'track': {'count': 1, 'probability': 0.009259259259259259},\n",
              "  'unearth': {'count': 1, 'probability': 0.009259259259259259},\n",
              "  'win': {'count': 1, 'probability': 0.009259259259259259},\n",
              "  'worry': {'count': 2, 'probability': 0.018518518518518517},\n",
              "  'wreck': {'count': 1, 'probability': 0.009259259259259259},\n",
              "  'write': {'count': 1, 'probability': 0.009259259259259259},\n",
              "  'yank': {'count': 1, 'probability': 0.009259259259259259}}}"
            ]
          },
          "metadata": {},
          "execution_count": 168
        }
      ]
    },
    {
      "cell_type": "code",
      "source": [
        ""
      ],
      "metadata": {
        "colab": {
          "base_uri": "https://localhost:8080/",
          "height": 174
        },
        "id": "PmbY2bzeB8Nj",
        "outputId": "2ccb6b35-494e-4be3-c5ad-10749141102f"
      },
      "execution_count": 159,
      "outputs": [
        {
          "output_type": "error",
          "ename": "TypeError",
          "evalue": "ignored",
          "traceback": [
            "\u001b[0;31m---------------------------------------------------------------------------\u001b[0m",
            "\u001b[0;31mTypeError\u001b[0m                                 Traceback (most recent call last)",
            "\u001b[0;32m<ipython-input-159-dcf87baf3a1c>\u001b[0m in \u001b[0;36m<module>\u001b[0;34m()\u001b[0m\n\u001b[0;32m----> 1\u001b[0;31m \u001b[0mget_n_gram_sentence\u001b[0m\u001b[0;34m(\u001b[0m\u001b[0;34m[\u001b[0m\u001b[0;34m'whispers'\u001b[0m\u001b[0;34m,\u001b[0m \u001b[0;34m'he'\u001b[0m\u001b[0;34m,\u001b[0m \u001b[0;34m'heard'\u001b[0m\u001b[0;34m,\u001b[0m \u001b[0;34m'none'\u001b[0m\u001b[0;34m,\u001b[0m \u001b[0;34m'of'\u001b[0m\u001b[0;34m,\u001b[0m \u001b[0;34m'these'\u001b[0m\u001b[0;34m]\u001b[0m\u001b[0;34m,\u001b[0m\u001b[0;36m2\u001b[0m\u001b[0;34m)\u001b[0m\u001b[0;34m\u001b[0m\u001b[0;34m\u001b[0m\u001b[0m\n\u001b[0m",
            "\u001b[0;31mTypeError\u001b[0m: get_n_gram_sentence() missing 1 required positional argument: 'i'"
          ]
        }
      ]
    }
  ]
}